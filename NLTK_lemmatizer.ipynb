{
 "cells": [
  {
   "cell_type": "markdown",
   "metadata": {},
   "source": [
    "# Basic POS based Lemmatisation using NLTK"
   ]
  },
  {
   "cell_type": "markdown",
   "metadata": {},
   "source": [
    "Know more about Lemmatisation: https://en.wikipedia.org/wiki/Lemmatisation"
   ]
  },
  {
   "cell_type": "code",
   "execution_count": 1,
   "metadata": {},
   "outputs": [
    {
     "name": "stdout",
     "output_type": "stream",
     "text": [
      "[nltk_data] Downloading package wordnet to /home/rahul/nltk_data...\n",
      "[nltk_data]   Package wordnet is already up-to-date!\n"
     ]
    }
   ],
   "source": [
    "import nltk\n",
    "from nltk.stem import WordNetLemmatizer\n",
    "nltk.download('wordnet')\n",
    "from nltk.tokenize import TweetTokenizer "
   ]
  },
  {
   "cell_type": "code",
   "execution_count": 2,
   "metadata": {},
   "outputs": [],
   "source": [
    "wnl = WordNetLemmatizer()\n",
    "tweet_tknzr = TweetTokenizer()"
   ]
  },
  {
   "cell_type": "code",
   "execution_count": 3,
   "metadata": {},
   "outputs": [],
   "source": [
    "def word_lemmatizer(word,pos='n'):\n",
    "    return wnl.lemmatize(word,pos)"
   ]
  },
  {
   "cell_type": "code",
   "execution_count": 4,
   "metadata": {},
   "outputs": [],
   "source": [
    "def get_wordnet_pos(tag):\n",
    "    if tag.startswith('J'):\n",
    "        return 'a'\n",
    "    elif tag.startswith('V'):\n",
    "        return 'v'\n",
    "    elif tag.startswith('N'):\n",
    "        return 'n'\n",
    "    elif tag.startswith('R'):\n",
    "        return 'r'\n",
    "    else:\n",
    "        return 'n'\n",
    "    \n",
    "# { Part-of-speech constants\n",
    "#ADJ, ADV, NOUN, VERB = 'a', 'r', 'n', 'v'\n",
    "# } "
   ]
  },
  {
   "cell_type": "code",
   "execution_count": 5,
   "metadata": {},
   "outputs": [],
   "source": [
    "def word_to_word(word):\n",
    "    tag = nltk.pos_tag([word])\n",
    "    return word_lemmatizer(word, get_wordnet_pos(tag[0][1]))"
   ]
  },
  {
   "cell_type": "code",
   "execution_count": 6,
   "metadata": {},
   "outputs": [],
   "source": [
    "def sentence_to_list(sentence, tokenizer_flag=0):\n",
    "    \n",
    "    results = []\n",
    "    \n",
    "    if tokenizer_flag == 0:\n",
    "        tokens = nltk.word_tokenize(sentence)\n",
    "    else:\n",
    "        tokens = tweet_tknzr.tokenize(sentence)\n",
    "        \n",
    "    tagged = nltk.pos_tag(tokens)\n",
    "    \n",
    "    for tag in tagged:\n",
    "        results.append(word_lemmatizer(tag[0],get_wordnet_pos(tag[1])))\n",
    "    return results"
   ]
  },
  {
   "cell_type": "code",
   "execution_count": 7,
   "metadata": {},
   "outputs": [],
   "source": [
    "def sentence_to_sentence(sentence, tokenizer_flag=0):\n",
    "    res = sentence_to_list(sentence, tokenizer_flag)\n",
    "    result = ' '.join(res)\n",
    "    return result"
   ]
  },
  {
   "cell_type": "markdown",
   "metadata": {},
   "source": [
    "### How to use :"
   ]
  },
  {
   "cell_type": "code",
   "execution_count": 8,
   "metadata": {},
   "outputs": [
    {
     "name": "stdout",
     "output_type": "stream",
     "text": [
      "well\n"
     ]
    }
   ],
   "source": [
    "# For a word\n",
    "print(word_to_word(\"better\"))"
   ]
  },
  {
   "cell_type": "code",
   "execution_count": 9,
   "metadata": {},
   "outputs": [
    {
     "name": "stdout",
     "output_type": "stream",
     "text": [
      "['He', 'be', 'not', 'play']\n"
     ]
    }
   ],
   "source": [
    "# For sentence to list\n",
    "print(sentence_to_list(\"He was not playing\"))"
   ]
  },
  {
   "cell_type": "code",
   "execution_count": 10,
   "metadata": {},
   "outputs": [
    {
     "name": "stdout",
     "output_type": "stream",
     "text": [
      "He be not play\n"
     ]
    }
   ],
   "source": [
    "# For sentence to sentence\n",
    "print(sentence_to_sentence(\"He was not playing\"))"
   ]
  },
  {
   "cell_type": "markdown",
   "metadata": {},
   "source": [
    "Default tokenizer_flag uses 'word_tokenize' which has issues with apostrophe, etc..\n",
    "\n",
    "tokenizer_flag = 1, uses TweetTokenizer which handles the isssue."
   ]
  },
  {
   "cell_type": "code",
   "execution_count": 11,
   "metadata": {},
   "outputs": [
    {
     "name": "stdout",
     "output_type": "stream",
     "text": [
      "['He', \"'s\", 'play'] \n",
      "\n",
      "[\"He's\", 'playing']\n"
     ]
    }
   ],
   "source": [
    "#with flag = 0 (default)\n",
    "print(sentence_to_list(\"He's playing\"),\"\\n\")\n",
    "#with flag = 1\n",
    "print(sentence_to_list(\"He's playing\",1))"
   ]
  },
  {
   "cell_type": "code",
   "execution_count": null,
   "metadata": {},
   "outputs": [],
   "source": []
  }
 ],
 "metadata": {
  "kernelspec": {
   "display_name": "Python 3",
   "language": "python",
   "name": "python3"
  },
  "language_info": {
   "codemirror_mode": {
    "name": "ipython",
    "version": 3
   },
   "file_extension": ".py",
   "mimetype": "text/x-python",
   "name": "python",
   "nbconvert_exporter": "python",
   "pygments_lexer": "ipython3",
   "version": "3.6.5"
  }
 },
 "nbformat": 4,
 "nbformat_minor": 2
}
